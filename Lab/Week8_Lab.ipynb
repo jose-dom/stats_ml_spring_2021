{
 "cells": [
  {
   "cell_type": "markdown",
   "id": "ceramic-joining",
   "metadata": {},
   "source": [
    "# Week 8 Lab session\n",
    " - Use logistic regression in predicting stock direction\n",
    " - Training/test split\n",
    " - logistic regression\n",
    " - LDA\n",
    " - QDA\n",
    " - k-NN\n",
    " - Analysis"
   ]
  },
  {
   "cell_type": "code",
   "execution_count": 1,
   "id": "heavy-enlargement",
   "metadata": {},
   "outputs": [],
   "source": [
    "import numpy as np\n",
    "import pandas as pd"
   ]
  },
  {
   "cell_type": "code",
   "execution_count": 2,
   "id": "identical-lancaster",
   "metadata": {},
   "outputs": [
    {
     "name": "stdout",
     "output_type": "stream",
     "text": [
      "\u001b[31mAdvertising.csv\u001b[m\u001b[m* \u001b[31mCaravan.csv\u001b[m\u001b[m*     \u001b[31mHitters.csv\u001b[m\u001b[m*     \u001b[31mKhan_ytest.csv\u001b[m\u001b[m*\r\n",
      "Auto.csv         \u001b[31mCarseats.csv\u001b[m\u001b[m*    \u001b[31mKhan_xtest.csv\u001b[m\u001b[m*  \u001b[31mKhan_ytrain.csv\u001b[m\u001b[m*\r\n",
      "\u001b[31mBoston.csv\u001b[m\u001b[m*      Default.csv      \u001b[31mKhan_xtrain.csv\u001b[m\u001b[m* \u001b[31mSmarket.csv\u001b[m\u001b[m*\r\n"
     ]
    }
   ],
   "source": [
    "%ls *.csv"
   ]
  },
  {
   "cell_type": "code",
   "execution_count": 3,
   "id": "wicked-fleece",
   "metadata": {},
   "outputs": [],
   "source": [
    "data = pd.read_csv('Smarket.csv')"
   ]
  },
  {
   "cell_type": "code",
   "execution_count": 4,
   "id": "military-balloon",
   "metadata": {},
   "outputs": [
    {
     "data": {
      "text/html": [
       "<div>\n",
       "<style scoped>\n",
       "    .dataframe tbody tr th:only-of-type {\n",
       "        vertical-align: middle;\n",
       "    }\n",
       "\n",
       "    .dataframe tbody tr th {\n",
       "        vertical-align: top;\n",
       "    }\n",
       "\n",
       "    .dataframe thead th {\n",
       "        text-align: right;\n",
       "    }\n",
       "</style>\n",
       "<table border=\"1\" class=\"dataframe\">\n",
       "  <thead>\n",
       "    <tr style=\"text-align: right;\">\n",
       "      <th></th>\n",
       "      <th>Unnamed: 0</th>\n",
       "      <th>Year</th>\n",
       "      <th>Lag1</th>\n",
       "      <th>Lag2</th>\n",
       "      <th>Lag3</th>\n",
       "      <th>Lag4</th>\n",
       "      <th>Lag5</th>\n",
       "      <th>Volume</th>\n",
       "      <th>Today</th>\n",
       "      <th>Direction</th>\n",
       "    </tr>\n",
       "  </thead>\n",
       "  <tbody>\n",
       "    <tr>\n",
       "      <th>0</th>\n",
       "      <td>1</td>\n",
       "      <td>2001</td>\n",
       "      <td>0.381</td>\n",
       "      <td>-0.192</td>\n",
       "      <td>-2.624</td>\n",
       "      <td>-1.055</td>\n",
       "      <td>5.010</td>\n",
       "      <td>1.1913</td>\n",
       "      <td>0.959</td>\n",
       "      <td>Up</td>\n",
       "    </tr>\n",
       "    <tr>\n",
       "      <th>1</th>\n",
       "      <td>2</td>\n",
       "      <td>2001</td>\n",
       "      <td>0.959</td>\n",
       "      <td>0.381</td>\n",
       "      <td>-0.192</td>\n",
       "      <td>-2.624</td>\n",
       "      <td>-1.055</td>\n",
       "      <td>1.2965</td>\n",
       "      <td>1.032</td>\n",
       "      <td>Up</td>\n",
       "    </tr>\n",
       "    <tr>\n",
       "      <th>2</th>\n",
       "      <td>3</td>\n",
       "      <td>2001</td>\n",
       "      <td>1.032</td>\n",
       "      <td>0.959</td>\n",
       "      <td>0.381</td>\n",
       "      <td>-0.192</td>\n",
       "      <td>-2.624</td>\n",
       "      <td>1.4112</td>\n",
       "      <td>-0.623</td>\n",
       "      <td>Down</td>\n",
       "    </tr>\n",
       "    <tr>\n",
       "      <th>3</th>\n",
       "      <td>4</td>\n",
       "      <td>2001</td>\n",
       "      <td>-0.623</td>\n",
       "      <td>1.032</td>\n",
       "      <td>0.959</td>\n",
       "      <td>0.381</td>\n",
       "      <td>-0.192</td>\n",
       "      <td>1.2760</td>\n",
       "      <td>0.614</td>\n",
       "      <td>Up</td>\n",
       "    </tr>\n",
       "    <tr>\n",
       "      <th>4</th>\n",
       "      <td>5</td>\n",
       "      <td>2001</td>\n",
       "      <td>0.614</td>\n",
       "      <td>-0.623</td>\n",
       "      <td>1.032</td>\n",
       "      <td>0.959</td>\n",
       "      <td>0.381</td>\n",
       "      <td>1.2057</td>\n",
       "      <td>0.213</td>\n",
       "      <td>Up</td>\n",
       "    </tr>\n",
       "    <tr>\n",
       "      <th>5</th>\n",
       "      <td>6</td>\n",
       "      <td>2001</td>\n",
       "      <td>0.213</td>\n",
       "      <td>0.614</td>\n",
       "      <td>-0.623</td>\n",
       "      <td>1.032</td>\n",
       "      <td>0.959</td>\n",
       "      <td>1.3491</td>\n",
       "      <td>1.392</td>\n",
       "      <td>Up</td>\n",
       "    </tr>\n",
       "    <tr>\n",
       "      <th>6</th>\n",
       "      <td>7</td>\n",
       "      <td>2001</td>\n",
       "      <td>1.392</td>\n",
       "      <td>0.213</td>\n",
       "      <td>0.614</td>\n",
       "      <td>-0.623</td>\n",
       "      <td>1.032</td>\n",
       "      <td>1.4450</td>\n",
       "      <td>-0.403</td>\n",
       "      <td>Down</td>\n",
       "    </tr>\n",
       "    <tr>\n",
       "      <th>7</th>\n",
       "      <td>8</td>\n",
       "      <td>2001</td>\n",
       "      <td>-0.403</td>\n",
       "      <td>1.392</td>\n",
       "      <td>0.213</td>\n",
       "      <td>0.614</td>\n",
       "      <td>-0.623</td>\n",
       "      <td>1.4078</td>\n",
       "      <td>0.027</td>\n",
       "      <td>Up</td>\n",
       "    </tr>\n",
       "    <tr>\n",
       "      <th>8</th>\n",
       "      <td>9</td>\n",
       "      <td>2001</td>\n",
       "      <td>0.027</td>\n",
       "      <td>-0.403</td>\n",
       "      <td>1.392</td>\n",
       "      <td>0.213</td>\n",
       "      <td>0.614</td>\n",
       "      <td>1.1640</td>\n",
       "      <td>1.303</td>\n",
       "      <td>Up</td>\n",
       "    </tr>\n",
       "    <tr>\n",
       "      <th>9</th>\n",
       "      <td>10</td>\n",
       "      <td>2001</td>\n",
       "      <td>1.303</td>\n",
       "      <td>0.027</td>\n",
       "      <td>-0.403</td>\n",
       "      <td>1.392</td>\n",
       "      <td>0.213</td>\n",
       "      <td>1.2326</td>\n",
       "      <td>0.287</td>\n",
       "      <td>Up</td>\n",
       "    </tr>\n",
       "  </tbody>\n",
       "</table>\n",
       "</div>"
      ],
      "text/plain": [
       "   Unnamed: 0  Year   Lag1   Lag2   Lag3   Lag4   Lag5  Volume  Today  \\\n",
       "0           1  2001  0.381 -0.192 -2.624 -1.055  5.010  1.1913  0.959   \n",
       "1           2  2001  0.959  0.381 -0.192 -2.624 -1.055  1.2965  1.032   \n",
       "2           3  2001  1.032  0.959  0.381 -0.192 -2.624  1.4112 -0.623   \n",
       "3           4  2001 -0.623  1.032  0.959  0.381 -0.192  1.2760  0.614   \n",
       "4           5  2001  0.614 -0.623  1.032  0.959  0.381  1.2057  0.213   \n",
       "5           6  2001  0.213  0.614 -0.623  1.032  0.959  1.3491  1.392   \n",
       "6           7  2001  1.392  0.213  0.614 -0.623  1.032  1.4450 -0.403   \n",
       "7           8  2001 -0.403  1.392  0.213  0.614 -0.623  1.4078  0.027   \n",
       "8           9  2001  0.027 -0.403  1.392  0.213  0.614  1.1640  1.303   \n",
       "9          10  2001  1.303  0.027 -0.403  1.392  0.213  1.2326  0.287   \n",
       "\n",
       "  Direction  \n",
       "0        Up  \n",
       "1        Up  \n",
       "2      Down  \n",
       "3        Up  \n",
       "4        Up  \n",
       "5        Up  \n",
       "6      Down  \n",
       "7        Up  \n",
       "8        Up  \n",
       "9        Up  "
      ]
     },
     "execution_count": 4,
     "metadata": {},
     "output_type": "execute_result"
    }
   ],
   "source": [
    "data.head(10)"
   ]
  },
  {
   "cell_type": "code",
   "execution_count": 5,
   "id": "flush-fields",
   "metadata": {},
   "outputs": [],
   "source": [
    "data['direction2'] = data.Direction.factorize()[0]"
   ]
  },
  {
   "cell_type": "code",
   "execution_count": 6,
   "id": "controlled-infection",
   "metadata": {},
   "outputs": [
    {
     "data": {
      "text/html": [
       "<div>\n",
       "<style scoped>\n",
       "    .dataframe tbody tr th:only-of-type {\n",
       "        vertical-align: middle;\n",
       "    }\n",
       "\n",
       "    .dataframe tbody tr th {\n",
       "        vertical-align: top;\n",
       "    }\n",
       "\n",
       "    .dataframe thead th {\n",
       "        text-align: right;\n",
       "    }\n",
       "</style>\n",
       "<table border=\"1\" class=\"dataframe\">\n",
       "  <thead>\n",
       "    <tr style=\"text-align: right;\">\n",
       "      <th></th>\n",
       "      <th>Unnamed: 0</th>\n",
       "      <th>Year</th>\n",
       "      <th>Lag1</th>\n",
       "      <th>Lag2</th>\n",
       "      <th>Lag3</th>\n",
       "      <th>Lag4</th>\n",
       "      <th>Lag5</th>\n",
       "      <th>Volume</th>\n",
       "      <th>Today</th>\n",
       "      <th>Direction</th>\n",
       "      <th>direction2</th>\n",
       "    </tr>\n",
       "  </thead>\n",
       "  <tbody>\n",
       "    <tr>\n",
       "      <th>0</th>\n",
       "      <td>1</td>\n",
       "      <td>2001</td>\n",
       "      <td>0.381</td>\n",
       "      <td>-0.192</td>\n",
       "      <td>-2.624</td>\n",
       "      <td>-1.055</td>\n",
       "      <td>5.010</td>\n",
       "      <td>1.1913</td>\n",
       "      <td>0.959</td>\n",
       "      <td>Up</td>\n",
       "      <td>0</td>\n",
       "    </tr>\n",
       "    <tr>\n",
       "      <th>1</th>\n",
       "      <td>2</td>\n",
       "      <td>2001</td>\n",
       "      <td>0.959</td>\n",
       "      <td>0.381</td>\n",
       "      <td>-0.192</td>\n",
       "      <td>-2.624</td>\n",
       "      <td>-1.055</td>\n",
       "      <td>1.2965</td>\n",
       "      <td>1.032</td>\n",
       "      <td>Up</td>\n",
       "      <td>0</td>\n",
       "    </tr>\n",
       "    <tr>\n",
       "      <th>2</th>\n",
       "      <td>3</td>\n",
       "      <td>2001</td>\n",
       "      <td>1.032</td>\n",
       "      <td>0.959</td>\n",
       "      <td>0.381</td>\n",
       "      <td>-0.192</td>\n",
       "      <td>-2.624</td>\n",
       "      <td>1.4112</td>\n",
       "      <td>-0.623</td>\n",
       "      <td>Down</td>\n",
       "      <td>1</td>\n",
       "    </tr>\n",
       "    <tr>\n",
       "      <th>3</th>\n",
       "      <td>4</td>\n",
       "      <td>2001</td>\n",
       "      <td>-0.623</td>\n",
       "      <td>1.032</td>\n",
       "      <td>0.959</td>\n",
       "      <td>0.381</td>\n",
       "      <td>-0.192</td>\n",
       "      <td>1.2760</td>\n",
       "      <td>0.614</td>\n",
       "      <td>Up</td>\n",
       "      <td>0</td>\n",
       "    </tr>\n",
       "    <tr>\n",
       "      <th>4</th>\n",
       "      <td>5</td>\n",
       "      <td>2001</td>\n",
       "      <td>0.614</td>\n",
       "      <td>-0.623</td>\n",
       "      <td>1.032</td>\n",
       "      <td>0.959</td>\n",
       "      <td>0.381</td>\n",
       "      <td>1.2057</td>\n",
       "      <td>0.213</td>\n",
       "      <td>Up</td>\n",
       "      <td>0</td>\n",
       "    </tr>\n",
       "  </tbody>\n",
       "</table>\n",
       "</div>"
      ],
      "text/plain": [
       "   Unnamed: 0  Year   Lag1   Lag2   Lag3   Lag4   Lag5  Volume  Today  \\\n",
       "0           1  2001  0.381 -0.192 -2.624 -1.055  5.010  1.1913  0.959   \n",
       "1           2  2001  0.959  0.381 -0.192 -2.624 -1.055  1.2965  1.032   \n",
       "2           3  2001  1.032  0.959  0.381 -0.192 -2.624  1.4112 -0.623   \n",
       "3           4  2001 -0.623  1.032  0.959  0.381 -0.192  1.2760  0.614   \n",
       "4           5  2001  0.614 -0.623  1.032  0.959  0.381  1.2057  0.213   \n",
       "\n",
       "  Direction  direction2  \n",
       "0        Up           0  \n",
       "1        Up           0  \n",
       "2      Down           1  \n",
       "3        Up           0  \n",
       "4        Up           0  "
      ]
     },
     "execution_count": 6,
     "metadata": {},
     "output_type": "execute_result"
    }
   ],
   "source": [
    "data.head()"
   ]
  },
  {
   "cell_type": "markdown",
   "id": "french-bishop",
   "metadata": {},
   "source": [
    "### Using the following pandas method, one can see how many positive (negative) cases are in a data set."
   ]
  },
  {
   "cell_type": "code",
   "execution_count": 7,
   "id": "thirty-determination",
   "metadata": {},
   "outputs": [
    {
     "name": "stdout",
     "output_type": "stream",
     "text": [
      "<class 'pandas.core.frame.DataFrame'>\n",
      "Int64Index: 648 entries, 0 to 1247\n",
      "Data columns (total 11 columns):\n",
      " #   Column      Non-Null Count  Dtype  \n",
      "---  ------      --------------  -----  \n",
      " 0   Unnamed: 0  648 non-null    int64  \n",
      " 1   Year        648 non-null    int64  \n",
      " 2   Lag1        648 non-null    float64\n",
      " 3   Lag2        648 non-null    float64\n",
      " 4   Lag3        648 non-null    float64\n",
      " 5   Lag4        648 non-null    float64\n",
      " 6   Lag5        648 non-null    float64\n",
      " 7   Volume      648 non-null    float64\n",
      " 8   Today       648 non-null    float64\n",
      " 9   Direction   648 non-null    object \n",
      " 10  direction2  648 non-null    int64  \n",
      "dtypes: float64(7), int64(3), object(1)\n",
      "memory usage: 60.8+ KB\n"
     ]
    }
   ],
   "source": [
    "data.loc[data['direction2'] == 0].info()"
   ]
  },
  {
   "cell_type": "code",
   "execution_count": 8,
   "id": "attractive-lewis",
   "metadata": {},
   "outputs": [
    {
     "name": "stdout",
     "output_type": "stream",
     "text": [
      "<class 'pandas.core.frame.DataFrame'>\n",
      "Int64Index: 602 entries, 2 to 1249\n",
      "Data columns (total 11 columns):\n",
      " #   Column      Non-Null Count  Dtype  \n",
      "---  ------      --------------  -----  \n",
      " 0   Unnamed: 0  602 non-null    int64  \n",
      " 1   Year        602 non-null    int64  \n",
      " 2   Lag1        602 non-null    float64\n",
      " 3   Lag2        602 non-null    float64\n",
      " 4   Lag3        602 non-null    float64\n",
      " 5   Lag4        602 non-null    float64\n",
      " 6   Lag5        602 non-null    float64\n",
      " 7   Volume      602 non-null    float64\n",
      " 8   Today       602 non-null    float64\n",
      " 9   Direction   602 non-null    object \n",
      " 10  direction2  602 non-null    int64  \n",
      "dtypes: float64(7), int64(3), object(1)\n",
      "memory usage: 56.4+ KB\n"
     ]
    }
   ],
   "source": [
    "data.loc[data['direction2'] == 1].info()"
   ]
  },
  {
   "cell_type": "markdown",
   "id": "streaming-department",
   "metadata": {},
   "source": [
    "### Import the logistic regression model from sklearn library"
   ]
  },
  {
   "cell_type": "code",
   "execution_count": 9,
   "id": "suited-phrase",
   "metadata": {},
   "outputs": [],
   "source": [
    "import sklearn.linear_model as skl_lm"
   ]
  },
  {
   "cell_type": "code",
   "execution_count": 10,
   "id": "recovered-motivation",
   "metadata": {},
   "outputs": [],
   "source": [
    "x = data[['Lag1','Lag2','Lag3','Lag4','Lag5','Volume']].values\n",
    "y = data['direction2'].values"
   ]
  },
  {
   "cell_type": "code",
   "execution_count": 11,
   "id": "liked-district",
   "metadata": {},
   "outputs": [
    {
     "data": {
      "text/plain": [
       "LogisticRegression(solver='newton-cg')"
      ]
     },
     "execution_count": 11,
     "metadata": {},
     "output_type": "execute_result"
    }
   ],
   "source": [
    "clf_logit = skl_lm.LogisticRegression(solver='newton-cg')\n",
    "clf_logit.fit(x,y)"
   ]
  },
  {
   "cell_type": "code",
   "execution_count": 12,
   "id": "northern-battle",
   "metadata": {},
   "outputs": [
    {
     "data": {
      "text/plain": [
       "array([[ 0.07284382,  0.04223527, -0.0110161 , -0.00928364, -0.01026345,\n",
       "        -0.13210837]])"
      ]
     },
     "execution_count": 12,
     "metadata": {},
     "output_type": "execute_result"
    }
   ],
   "source": [
    "clf_logit.coef_"
   ]
  },
  {
   "cell_type": "code",
   "execution_count": 13,
   "id": "athletic-extension",
   "metadata": {},
   "outputs": [
    {
     "data": {
      "text/plain": [
       "array([0.12107884])"
      ]
     },
     "execution_count": 13,
     "metadata": {},
     "output_type": "execute_result"
    }
   ],
   "source": [
    "clf_logit.intercept_"
   ]
  },
  {
   "cell_type": "code",
   "execution_count": 14,
   "id": "varying-activity",
   "metadata": {},
   "outputs": [
    {
     "data": {
      "text/plain": [
       "array([0, 1])"
      ]
     },
     "execution_count": 14,
     "metadata": {},
     "output_type": "execute_result"
    }
   ],
   "source": [
    "clf_logit.classes_"
   ]
  },
  {
   "cell_type": "code",
   "execution_count": 15,
   "id": "antique-escape",
   "metadata": {},
   "outputs": [],
   "source": [
    "pred = clf_logit.predict(x)"
   ]
  },
  {
   "cell_type": "code",
   "execution_count": 16,
   "id": "associate-regression",
   "metadata": {},
   "outputs": [
    {
     "data": {
      "text/plain": [
       "array([[507, 458],\n",
       "       [141, 144]])"
      ]
     },
     "execution_count": 16,
     "metadata": {},
     "output_type": "execute_result"
    }
   ],
   "source": [
    "from sklearn.metrics import confusion_matrix, classification_report\n",
    "\n",
    "confusion_matrix(y, pred).T"
   ]
  },
  {
   "cell_type": "code",
   "execution_count": 17,
   "id": "cutting-equity",
   "metadata": {},
   "outputs": [
    {
     "name": "stdout",
     "output_type": "stream",
     "text": [
      "              precision    recall  f1-score   support\n",
      "\n",
      "           0      0.525     0.782     0.629       648\n",
      "           1      0.505     0.239     0.325       602\n",
      "\n",
      "    accuracy                          0.521      1250\n",
      "   macro avg      0.515     0.511     0.477      1250\n",
      "weighted avg      0.516     0.521     0.482      1250\n",
      "\n"
     ]
    }
   ],
   "source": [
    "print(classification_report(y, pred, digits=3))"
   ]
  },
  {
   "cell_type": "code",
   "execution_count": 18,
   "id": "hollywood-sensitivity",
   "metadata": {},
   "outputs": [
    {
     "data": {
      "text/plain": [
       "0.5208"
      ]
     },
     "execution_count": 18,
     "metadata": {},
     "output_type": "execute_result"
    }
   ],
   "source": [
    "(507+144)/(507+144+458+141)"
   ]
  },
  {
   "cell_type": "markdown",
   "id": "moved-nursery",
   "metadata": {},
   "source": [
    "## Training and test subsets: data before and after 2005 "
   ]
  },
  {
   "cell_type": "code",
   "execution_count": 19,
   "id": "unique-punishment",
   "metadata": {},
   "outputs": [],
   "source": [
    "X_train = data.loc[data['Year']<2005][['Lag1','Lag2','Lag3','Lag4','Lag5','Volume']].values\n",
    "y_train = data.loc[data['Year']<2005]['direction2'].values\n",
    "\n",
    "X_test = data.loc[data['Year']>2004][['Lag1','Lag2','Lag3','Lag4','Lag5','Volume']].values\n",
    "y_test = data.loc[data['Year']>2004]['direction2'].values"
   ]
  },
  {
   "cell_type": "code",
   "execution_count": 20,
   "id": "referenced-zealand",
   "metadata": {},
   "outputs": [
    {
     "data": {
      "text/plain": [
       "LogisticRegression(solver='newton-cg')"
      ]
     },
     "execution_count": 20,
     "metadata": {},
     "output_type": "execute_result"
    }
   ],
   "source": [
    "clf_logit.fit(X_train, y_train)"
   ]
  },
  {
   "cell_type": "code",
   "execution_count": 21,
   "id": "toxic-ideal",
   "metadata": {},
   "outputs": [],
   "source": [
    "pred_test = clf_logit.predict(X_test)"
   ]
  },
  {
   "cell_type": "code",
   "execution_count": 22,
   "id": "trained-environment",
   "metadata": {},
   "outputs": [
    {
     "data": {
      "text/plain": [
       "array([[48, 37],\n",
       "       [93, 74]])"
      ]
     },
     "execution_count": 22,
     "metadata": {},
     "output_type": "execute_result"
    }
   ],
   "source": [
    "confusion_matrix(y_test, pred_test).T"
   ]
  },
  {
   "cell_type": "code",
   "execution_count": 23,
   "id": "guided-casting",
   "metadata": {},
   "outputs": [
    {
     "data": {
      "text/plain": [
       "0.48412698412698413"
      ]
     },
     "execution_count": 23,
     "metadata": {},
     "output_type": "execute_result"
    }
   ],
   "source": [
    "(48+74)/(48+74+37+93)"
   ]
  },
  {
   "cell_type": "markdown",
   "id": "reported-examination",
   "metadata": {},
   "source": [
    "## For some reason, let us try fitting the data with the most relevant features: Lag1 and Lag2."
   ]
  },
  {
   "cell_type": "code",
   "execution_count": 24,
   "id": "economic-british",
   "metadata": {},
   "outputs": [],
   "source": [
    "X_train = data.loc[data['Year']<2005][['Lag1','Lag2']].values\n",
    "y_train = data.loc[data['Year']<2005]['direction2'].values\n",
    "\n",
    "X_test = data.loc[data['Year']>2004][['Lag1','Lag2']].values\n",
    "y_test = data.loc[data['Year']>2004]['direction2'].values"
   ]
  },
  {
   "cell_type": "code",
   "execution_count": 25,
   "id": "oriented-notebook",
   "metadata": {},
   "outputs": [
    {
     "data": {
      "text/plain": [
       "LogisticRegression(solver='newton-cg')"
      ]
     },
     "execution_count": 25,
     "metadata": {},
     "output_type": "execute_result"
    }
   ],
   "source": [
    "clf_logit.fit(X_train, y_train)"
   ]
  },
  {
   "cell_type": "code",
   "execution_count": 26,
   "id": "exact-elizabeth",
   "metadata": {},
   "outputs": [],
   "source": [
    "pred_test = clf_logit.predict(X_test)"
   ]
  },
  {
   "cell_type": "code",
   "execution_count": 27,
   "id": "metropolitan-prompt",
   "metadata": {},
   "outputs": [
    {
     "data": {
      "text/plain": [
       "array([[106,  76],\n",
       "       [ 35,  35]])"
      ]
     },
     "execution_count": 27,
     "metadata": {},
     "output_type": "execute_result"
    }
   ],
   "source": [
    "confusion_matrix(y_test, pred_test).T"
   ]
  },
  {
   "cell_type": "code",
   "execution_count": 28,
   "id": "dutch-complex",
   "metadata": {},
   "outputs": [
    {
     "data": {
      "text/plain": [
       "0.5595238095238095"
      ]
     },
     "execution_count": 28,
     "metadata": {},
     "output_type": "execute_result"
    }
   ],
   "source": [
    "(106+35)/(106+35+76+35)"
   ]
  },
  {
   "cell_type": "markdown",
   "id": "essential-toddler",
   "metadata": {},
   "source": [
    "## LDA"
   ]
  },
  {
   "cell_type": "code",
   "execution_count": 29,
   "id": "changed-presentation",
   "metadata": {},
   "outputs": [],
   "source": [
    "from sklearn.discriminant_analysis import LinearDiscriminantAnalysis"
   ]
  },
  {
   "cell_type": "code",
   "execution_count": 30,
   "id": "married-crack",
   "metadata": {},
   "outputs": [],
   "source": [
    "lda = LinearDiscriminantAnalysis()\n",
    "pred_test_lda = lda.fit(X_train, y_train).predict(X_test)"
   ]
  },
  {
   "cell_type": "code",
   "execution_count": 31,
   "id": "decreased-writing",
   "metadata": {},
   "outputs": [
    {
     "data": {
      "text/plain": [
       "array([0.50801603, 0.49198397])"
      ]
     },
     "execution_count": 31,
     "metadata": {},
     "output_type": "execute_result"
    }
   ],
   "source": [
    "lda.priors_"
   ]
  },
  {
   "cell_type": "code",
   "execution_count": 32,
   "id": "eastern-airport",
   "metadata": {},
   "outputs": [
    {
     "data": {
      "text/plain": [
       "array([[-0.03954635, -0.03132544],\n",
       "       [ 0.04279022,  0.03389409]])"
      ]
     },
     "execution_count": 32,
     "metadata": {},
     "output_type": "execute_result"
    }
   ],
   "source": [
    "lda.means_"
   ]
  },
  {
   "cell_type": "code",
   "execution_count": 33,
   "id": "touched-fireplace",
   "metadata": {},
   "outputs": [
    {
     "data": {
      "text/plain": [
       "array([[0.05544078, 0.0443452 ]])"
      ]
     },
     "execution_count": 33,
     "metadata": {},
     "output_type": "execute_result"
    }
   ],
   "source": [
    "lda.coef_"
   ]
  },
  {
   "cell_type": "code",
   "execution_count": 34,
   "id": "dying-idaho",
   "metadata": {},
   "outputs": [
    {
     "data": {
      "text/plain": [
       "array([[106,  76],\n",
       "       [ 35,  35]])"
      ]
     },
     "execution_count": 34,
     "metadata": {},
     "output_type": "execute_result"
    }
   ],
   "source": [
    "confusion_matrix(y_test, pred_test_lda).T"
   ]
  },
  {
   "cell_type": "code",
   "execution_count": 35,
   "id": "manual-duration",
   "metadata": {},
   "outputs": [
    {
     "data": {
      "text/plain": [
       "0.5595238095238095"
      ]
     },
     "execution_count": 35,
     "metadata": {},
     "output_type": "execute_result"
    }
   ],
   "source": [
    "(106+35)/(106+35+35+76)"
   ]
  },
  {
   "cell_type": "code",
   "execution_count": 42,
   "id": "active-enough",
   "metadata": {},
   "outputs": [
    {
     "data": {
      "text/plain": [
       "-0.03954635108481257"
      ]
     },
     "execution_count": 42,
     "metadata": {},
     "output_type": "execute_result"
    }
   ],
   "source": [
    "data.loc[data['Year']<2005].loc[data['Direction']=='Up']['Lag1'].mean()"
   ]
  },
  {
   "cell_type": "code",
   "execution_count": 43,
   "id": "rolled-malawi",
   "metadata": {},
   "outputs": [
    {
     "data": {
      "text/plain": [
       "-0.031325443786982286"
      ]
     },
     "execution_count": 43,
     "metadata": {},
     "output_type": "execute_result"
    }
   ],
   "source": [
    "data.loc[data['Year']<2005].loc[data['Direction']=='Up']['Lag2'].mean()"
   ]
  },
  {
   "cell_type": "code",
   "execution_count": 44,
   "id": "sorted-september",
   "metadata": {},
   "outputs": [
    {
     "data": {
      "text/plain": [
       "0.04279022403258651"
      ]
     },
     "execution_count": 44,
     "metadata": {},
     "output_type": "execute_result"
    }
   ],
   "source": [
    "data.loc[data['Year']<2005].loc[data['Direction']=='Down']['Lag1'].mean()"
   ]
  },
  {
   "cell_type": "code",
   "execution_count": 45,
   "id": "verbal-insider",
   "metadata": {},
   "outputs": [
    {
     "data": {
      "text/plain": [
       "0.0338940936863544"
      ]
     },
     "execution_count": 45,
     "metadata": {},
     "output_type": "execute_result"
    }
   ],
   "source": [
    "data.loc[data['Year']<2005].loc[data['Direction']=='Down']['Lag2'].mean()"
   ]
  },
  {
   "cell_type": "code",
   "execution_count": 59,
   "id": "played-design",
   "metadata": {},
   "outputs": [
    {
     "data": {
      "text/plain": [
       "1.517005762175395"
      ]
     },
     "execution_count": 59,
     "metadata": {},
     "output_type": "execute_result"
    }
   ],
   "source": [
    "data.loc[data['Year']<2005].loc[data['Direction']=='Up']['Lag1'].var()"
   ]
  },
  {
   "cell_type": "code",
   "execution_count": 60,
   "id": "informal-wheel",
   "metadata": {},
   "outputs": [
    {
     "data": {
      "text/plain": [
       "1.4902681527703063"
      ]
     },
     "execution_count": 60,
     "metadata": {},
     "output_type": "execute_result"
    }
   ],
   "source": [
    "data.loc[data['Year']<2005].loc[data['Direction']=='Up']['Lag2'].var()"
   ]
  },
  {
   "cell_type": "code",
   "execution_count": 61,
   "id": "established-paper",
   "metadata": {},
   "outputs": [
    {
     "data": {
      "text/plain": [
       "1.5066227701899486"
      ]
     },
     "execution_count": 61,
     "metadata": {},
     "output_type": "execute_result"
    }
   ],
   "source": [
    "data.loc[data['Year']<2005].loc[data['Direction']=='Down']['Lag1'].var()"
   ]
  },
  {
   "cell_type": "code",
   "execution_count": 62,
   "id": "phantom-swiss",
   "metadata": {},
   "outputs": [
    {
     "data": {
      "text/plain": [
       "1.5355949765160637"
      ]
     },
     "execution_count": 62,
     "metadata": {},
     "output_type": "execute_result"
    }
   ],
   "source": [
    "data.loc[data['Year']<2005].loc[data['Direction']=='Down']['Lag2'].var()"
   ]
  },
  {
   "cell_type": "markdown",
   "id": "complimentary-convertible",
   "metadata": {},
   "source": [
    "## QDA"
   ]
  },
  {
   "cell_type": "code",
   "execution_count": 46,
   "id": "annual-throat",
   "metadata": {},
   "outputs": [],
   "source": [
    "from sklearn.discriminant_analysis import QuadraticDiscriminantAnalysis"
   ]
  },
  {
   "cell_type": "code",
   "execution_count": 55,
   "id": "vietnamese-heater",
   "metadata": {},
   "outputs": [],
   "source": [
    "qda = QuadraticDiscriminantAnalysis(store_covariance=True)\n",
    "pred_test_qda = qda.fit(X_train, y_train).predict(X_test)"
   ]
  },
  {
   "cell_type": "code",
   "execution_count": 56,
   "id": "declared-acoustic",
   "metadata": {},
   "outputs": [
    {
     "data": {
      "text/plain": [
       "array([0.50801603, 0.49198397])"
      ]
     },
     "execution_count": 56,
     "metadata": {},
     "output_type": "execute_result"
    }
   ],
   "source": [
    "qda.priors_"
   ]
  },
  {
   "cell_type": "code",
   "execution_count": 57,
   "id": "homeless-single",
   "metadata": {},
   "outputs": [
    {
     "data": {
      "text/plain": [
       "array([[-0.03954635, -0.03132544],\n",
       "       [ 0.04279022,  0.03389409]])"
      ]
     },
     "execution_count": 57,
     "metadata": {},
     "output_type": "execute_result"
    }
   ],
   "source": [
    "qda.means_"
   ]
  },
  {
   "cell_type": "code",
   "execution_count": 58,
   "id": "fantastic-meeting",
   "metadata": {},
   "outputs": [
    {
     "data": {
      "text/plain": [
       "[array([[ 1.51700576, -0.02787349],\n",
       "        [-0.02787349,  1.49026815]]),\n",
       " array([[ 1.50662277, -0.03924806],\n",
       "        [-0.03924806,  1.53559498]])]"
      ]
     },
     "execution_count": 58,
     "metadata": {},
     "output_type": "execute_result"
    }
   ],
   "source": [
    "qda.covariance_"
   ]
  },
  {
   "cell_type": "code",
   "execution_count": 50,
   "id": "western-restaurant",
   "metadata": {},
   "outputs": [
    {
     "data": {
      "text/plain": [
       "array([[121,  81],\n",
       "       [ 20,  30]])"
      ]
     },
     "execution_count": 50,
     "metadata": {},
     "output_type": "execute_result"
    }
   ],
   "source": [
    "confusion_matrix(y_test, pred_test_qda).T"
   ]
  },
  {
   "cell_type": "code",
   "execution_count": 41,
   "id": "acting-louis",
   "metadata": {},
   "outputs": [
    {
     "data": {
      "text/plain": [
       "0.5992063492063492"
      ]
     },
     "execution_count": 41,
     "metadata": {},
     "output_type": "execute_result"
    }
   ],
   "source": [
    "(121+30)/(121+30+81+20)"
   ]
  },
  {
   "cell_type": "markdown",
   "id": "impressed-desire",
   "metadata": {},
   "source": [
    "## k-nearest neighbor (kNN)"
   ]
  },
  {
   "cell_type": "code",
   "execution_count": 42,
   "id": "silent-powell",
   "metadata": {},
   "outputs": [],
   "source": [
    "from sklearn import neighbors"
   ]
  },
  {
   "cell_type": "code",
   "execution_count": 43,
   "id": "national-distribution",
   "metadata": {},
   "outputs": [
    {
     "name": "stdout",
     "output_type": "stream",
     "text": [
      "[[83 68]\n",
      " [58 43]]\n"
     ]
    }
   ],
   "source": [
    "knn = neighbors.KNeighborsClassifier(n_neighbors=1)\n",
    "pred_knn_1 = knn.fit(X_train, y_train).predict(X_test)\n",
    "print(confusion_matrix(y_test, pred_knn_1).T)"
   ]
  },
  {
   "cell_type": "code",
   "execution_count": 44,
   "id": "reverse-integrity",
   "metadata": {},
   "outputs": [
    {
     "data": {
      "text/plain": [
       "0.5"
      ]
     },
     "execution_count": 44,
     "metadata": {},
     "output_type": "execute_result"
    }
   ],
   "source": [
    "(83+43)/(68+58+83+43)"
   ]
  },
  {
   "cell_type": "code",
   "execution_count": 45,
   "id": "ecological-medium",
   "metadata": {},
   "outputs": [
    {
     "name": "stdout",
     "output_type": "stream",
     "text": [
      "[[86 63]\n",
      " [55 48]]\n"
     ]
    }
   ],
   "source": [
    "knn = neighbors.KNeighborsClassifier(n_neighbors=3)\n",
    "pred_knn_3 = knn.fit(X_train, y_train).predict(X_test)\n",
    "print(confusion_matrix(y_test, pred_knn_3).T)"
   ]
  },
  {
   "cell_type": "code",
   "execution_count": 46,
   "id": "welcome-albania",
   "metadata": {},
   "outputs": [
    {
     "data": {
      "text/plain": [
       "0.5317460317460317"
      ]
     },
     "execution_count": 46,
     "metadata": {},
     "output_type": "execute_result"
    }
   ],
   "source": [
    "(86+48)/(86+48+63+55)"
   ]
  },
  {
   "cell_type": "markdown",
   "id": "appointed-salem",
   "metadata": {},
   "source": [
    "## What to explore next: potential class project on recent SP500 data\n",
    " - Collecting updated sp500 data in the same format: lag1-5, volume\n",
    " - what subsets of features are relevant for prediction? why? for instance, use bootstrap technique to see which features are relevant to direction.\n",
    " - besides the model above, you can use neural networks and other advanced models to predict\n",
    " - any other stock markets?"
   ]
  },
  {
   "cell_type": "code",
   "execution_count": null,
   "id": "amateur-wellington",
   "metadata": {},
   "outputs": [],
   "source": []
  }
 ],
 "metadata": {
  "kernelspec": {
   "display_name": "Python 3",
   "language": "python",
   "name": "python3"
  },
  "language_info": {
   "codemirror_mode": {
    "name": "ipython",
    "version": 3
   },
   "file_extension": ".py",
   "mimetype": "text/x-python",
   "name": "python",
   "nbconvert_exporter": "python",
   "pygments_lexer": "ipython3",
   "version": "3.6.9"
  }
 },
 "nbformat": 4,
 "nbformat_minor": 5
}
