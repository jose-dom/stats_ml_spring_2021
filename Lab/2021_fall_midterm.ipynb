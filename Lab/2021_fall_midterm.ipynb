{
 "cells": [
  {
   "cell_type": "markdown",
   "id": "streaming-messaging",
   "metadata": {},
   "source": [
    "# Week 10: Midterm review"
   ]
  },
  {
   "cell_type": "code",
   "execution_count": 1,
   "id": "ranging-insured",
   "metadata": {},
   "outputs": [],
   "source": [
    "import numpy as np\n",
    "import pandas as pd"
   ]
  },
  {
   "cell_type": "markdown",
   "id": "broken-pattern",
   "metadata": {},
   "source": [
    "### Q1. Access list"
   ]
  },
  {
   "cell_type": "code",
   "execution_count": 2,
   "id": "adaptive-chamber",
   "metadata": {},
   "outputs": [
    {
     "data": {
      "text/plain": [
       "'bc'"
      ]
     },
     "execution_count": 2,
     "metadata": {},
     "output_type": "execute_result"
    }
   ],
   "source": [
    "a = ['a', 0, 'bc']\n",
    "a[2]"
   ]
  },
  {
   "cell_type": "markdown",
   "id": "banner-history",
   "metadata": {},
   "source": [
    "### Q2. Addition of two numpy array"
   ]
  },
  {
   "cell_type": "code",
   "execution_count": 3,
   "id": "characteristic-syria",
   "metadata": {},
   "outputs": [],
   "source": [
    "b = np.array([1,2,3])\n",
    "c = np.array([1,2,3])"
   ]
  },
  {
   "cell_type": "code",
   "execution_count": 4,
   "id": "fundamental-journey",
   "metadata": {},
   "outputs": [
    {
     "name": "stdout",
     "output_type": "stream",
     "text": [
      "[2 4 6]\n"
     ]
    }
   ],
   "source": [
    "print(b+c)"
   ]
  },
  {
   "cell_type": "markdown",
   "id": "first-patrol",
   "metadata": {},
   "source": [
    "### Q3. Addition of two lists"
   ]
  },
  {
   "cell_type": "code",
   "execution_count": 5,
   "id": "common-boundary",
   "metadata": {},
   "outputs": [],
   "source": [
    "B = [1, 2, 3]\n",
    "C = [1, 2, 3]"
   ]
  },
  {
   "cell_type": "code",
   "execution_count": 6,
   "id": "dependent-source",
   "metadata": {},
   "outputs": [
    {
     "name": "stdout",
     "output_type": "stream",
     "text": [
      "[1, 2, 3, 1, 2, 3]\n"
     ]
    }
   ],
   "source": [
    "print(B+C)"
   ]
  },
  {
   "cell_type": "markdown",
   "id": "familiar-squad",
   "metadata": {},
   "source": [
    "### Q4. Addition of two sets"
   ]
  },
  {
   "cell_type": "code",
   "execution_count": 7,
   "id": "higher-facility",
   "metadata": {},
   "outputs": [],
   "source": [
    "A = {1, 2, 3}\n",
    "B = {1, 2, 3}"
   ]
  },
  {
   "cell_type": "code",
   "execution_count": 8,
   "id": "variable-sleep",
   "metadata": {},
   "outputs": [
    {
     "ename": "TypeError",
     "evalue": "unsupported operand type(s) for +: 'set' and 'set'",
     "output_type": "error",
     "traceback": [
      "\u001b[0;31m---------------------------------------------------------------------------\u001b[0m",
      "\u001b[0;31mTypeError\u001b[0m                                 Traceback (most recent call last)",
      "\u001b[0;32m<ipython-input-8-d4231d815df3>\u001b[0m in \u001b[0;36m<module>\u001b[0;34m\u001b[0m\n\u001b[0;32m----> 1\u001b[0;31m \u001b[0mprint\u001b[0m\u001b[0;34m(\u001b[0m\u001b[0mA\u001b[0m\u001b[0;34m+\u001b[0m\u001b[0mB\u001b[0m\u001b[0;34m)\u001b[0m\u001b[0;34m\u001b[0m\u001b[0;34m\u001b[0m\u001b[0m\n\u001b[0m",
      "\u001b[0;31mTypeError\u001b[0m: unsupported operand type(s) for +: 'set' and 'set'"
     ]
    }
   ],
   "source": [
    "# operator + does not apply to addition of two sets\n",
    "# union method does similar job, but repeated elements will not be counted.\n",
    "print(A+B)"
   ]
  },
  {
   "cell_type": "code",
   "execution_count": 9,
   "id": "mineral-hobby",
   "metadata": {},
   "outputs": [
    {
     "name": "stdout",
     "output_type": "stream",
     "text": [
      "{1, 2, 3}\n"
     ]
    }
   ],
   "source": [
    "print(A.union(B))"
   ]
  },
  {
   "cell_type": "markdown",
   "id": "functional-knight",
   "metadata": {},
   "source": [
    "### Q5. Set comprehension"
   ]
  },
  {
   "cell_type": "code",
   "execution_count": 10,
   "id": "multiple-indian",
   "metadata": {},
   "outputs": [
    {
     "data": {
      "text/plain": [
       "{2, 3, 4, 6, 8, 9, 10}"
      ]
     },
     "execution_count": 10,
     "metadata": {},
     "output_type": "execute_result"
    }
   ],
   "source": [
    "# Elegant way to make a desired list, set, dictionary, etc.\n",
    "\n",
    "{s for s in [2,4,6,8,10]}.union({m for m in [3,6,9]})"
   ]
  },
  {
   "cell_type": "markdown",
   "id": "veterinary-particular",
   "metadata": {},
   "source": [
    "### Q6. Dictionary comprehension and zip"
   ]
  },
  {
   "cell_type": "code",
   "execution_count": 11,
   "id": "hispanic-summary",
   "metadata": {},
   "outputs": [
    {
     "data": {
      "text/plain": [
       "{'p': 1, 'q': 4, 'r': 9}"
      ]
     },
     "execution_count": 11,
     "metadata": {},
     "output_type": "execute_result"
    }
   ],
   "source": [
    "a = ['p', 'q', 'r'] \n",
    "b = np.array([1,2,3])\n",
    "\n",
    "{u:v for (u,v) in zip(a,b**2)}"
   ]
  },
  {
   "cell_type": "markdown",
   "id": "scheduled-africa",
   "metadata": {},
   "source": [
    "### Q7. Bitwise shift operation"
   ]
  },
  {
   "cell_type": "code",
   "execution_count": 12,
   "id": "hybrid-reconstruction",
   "metadata": {},
   "outputs": [
    {
     "data": {
      "text/plain": [
       "24"
      ]
     },
     "execution_count": 12,
     "metadata": {},
     "output_type": "execute_result"
    }
   ],
   "source": [
    "3 << 3"
   ]
  },
  {
   "cell_type": "markdown",
   "id": "genuine-jumping",
   "metadata": {},
   "source": [
    "### Q8. Which one of the following daily applications belongs to the supervised learning\n",
    " - (a) Bitcoin price prediction\n",
    " - (b) Sentence auto-completion\n",
    " - (c) Video recommender in youtube\n",
    " - (d) Data visualization"
   ]
  },
  {
   "cell_type": "code",
   "execution_count": null,
   "id": "alpine-funds",
   "metadata": {},
   "outputs": [],
   "source": []
  },
  {
   "cell_type": "markdown",
   "id": "natural-protest",
   "metadata": {},
   "source": [
    "### Q9. Which of the following is not true about the MNIST data set.\n",
    " - (a) It is only useful for training supervised learning models\n",
    " - (b) It is a data set with x = image of handwritten digit and y = integer corresponding to the digit\n",
    " - (c) The image of digit has 8x8 pixels.\n",
    " - (d) One of the popular models for predicting the label of an unseen image is neural network."
   ]
  },
  {
   "cell_type": "code",
   "execution_count": null,
   "id": "extreme-variation",
   "metadata": {},
   "outputs": [],
   "source": []
  },
  {
   "cell_type": "markdown",
   "id": "pressing-flavor",
   "metadata": {},
   "source": [
    "### Q10. Which datum contributes the most to the squared error? "
   ]
  },
  {
   "cell_type": "code",
   "execution_count": 81,
   "id": "exterior-lover",
   "metadata": {},
   "outputs": [],
   "source": [
    "from sklearn.metrics import mean_squared_error"
   ]
  },
  {
   "cell_type": "code",
   "execution_count": 82,
   "id": "monetary-chain",
   "metadata": {},
   "outputs": [],
   "source": [
    "adv_true = np.array([20, 98, 220])\n",
    "adv_pred = np.array([34, 110, 210])"
   ]
  },
  {
   "cell_type": "code",
   "execution_count": 83,
   "id": "functional-coral",
   "metadata": {},
   "outputs": [
    {
     "data": {
      "text/plain": [
       "146.66666666666666"
      ]
     },
     "execution_count": 83,
     "metadata": {},
     "output_type": "execute_result"
    }
   ],
   "source": [
    "mean_squared_error(adv_true, adv_pred)"
   ]
  },
  {
   "cell_type": "code",
   "execution_count": 84,
   "id": "acknowledged-treasury",
   "metadata": {},
   "outputs": [
    {
     "data": {
      "text/plain": [
       "196.0"
      ]
     },
     "execution_count": 84,
     "metadata": {},
     "output_type": "execute_result"
    }
   ],
   "source": [
    "mean_squared_error(adv_true, adv_pred, sample_weight=np.array([1,0,0]))"
   ]
  },
  {
   "cell_type": "code",
   "execution_count": 85,
   "id": "available-spectrum",
   "metadata": {},
   "outputs": [
    {
     "data": {
      "text/plain": [
       "144.0"
      ]
     },
     "execution_count": 85,
     "metadata": {},
     "output_type": "execute_result"
    }
   ],
   "source": [
    "mean_squared_error(adv_true, adv_pred, sample_weight=np.array([0,1,0]))"
   ]
  },
  {
   "cell_type": "code",
   "execution_count": 86,
   "id": "experimental-homework",
   "metadata": {},
   "outputs": [
    {
     "data": {
      "text/plain": [
       "100.0"
      ]
     },
     "execution_count": 86,
     "metadata": {},
     "output_type": "execute_result"
    }
   ],
   "source": [
    "mean_squared_error(adv_true, adv_pred, sample_weight=np.array([0,0,1]))"
   ]
  },
  {
   "cell_type": "markdown",
   "id": "crude-restoration",
   "metadata": {},
   "source": [
    "### Q11. Accessing tablular data in pandas"
   ]
  },
  {
   "cell_type": "code",
   "execution_count": 13,
   "id": "second-banner",
   "metadata": {},
   "outputs": [],
   "source": [
    "data = pd.read_csv('Advertising.csv')"
   ]
  },
  {
   "cell_type": "code",
   "execution_count": 14,
   "id": "french-linux",
   "metadata": {},
   "outputs": [
    {
     "data": {
      "text/html": [
       "<div>\n",
       "<style scoped>\n",
       "    .dataframe tbody tr th:only-of-type {\n",
       "        vertical-align: middle;\n",
       "    }\n",
       "\n",
       "    .dataframe tbody tr th {\n",
       "        vertical-align: top;\n",
       "    }\n",
       "\n",
       "    .dataframe thead th {\n",
       "        text-align: right;\n",
       "    }\n",
       "</style>\n",
       "<table border=\"1\" class=\"dataframe\">\n",
       "  <thead>\n",
       "    <tr style=\"text-align: right;\">\n",
       "      <th></th>\n",
       "      <th>Unnamed: 0</th>\n",
       "      <th>TV</th>\n",
       "      <th>Radio</th>\n",
       "      <th>Newspaper</th>\n",
       "      <th>Sales</th>\n",
       "    </tr>\n",
       "  </thead>\n",
       "  <tbody>\n",
       "    <tr>\n",
       "      <th>0</th>\n",
       "      <td>1</td>\n",
       "      <td>230.1</td>\n",
       "      <td>37.8</td>\n",
       "      <td>69.2</td>\n",
       "      <td>22.1</td>\n",
       "    </tr>\n",
       "    <tr>\n",
       "      <th>1</th>\n",
       "      <td>2</td>\n",
       "      <td>44.5</td>\n",
       "      <td>39.3</td>\n",
       "      <td>45.1</td>\n",
       "      <td>10.4</td>\n",
       "    </tr>\n",
       "    <tr>\n",
       "      <th>2</th>\n",
       "      <td>3</td>\n",
       "      <td>17.2</td>\n",
       "      <td>45.9</td>\n",
       "      <td>69.3</td>\n",
       "      <td>9.3</td>\n",
       "    </tr>\n",
       "    <tr>\n",
       "      <th>3</th>\n",
       "      <td>4</td>\n",
       "      <td>151.5</td>\n",
       "      <td>41.3</td>\n",
       "      <td>58.5</td>\n",
       "      <td>18.5</td>\n",
       "    </tr>\n",
       "    <tr>\n",
       "      <th>4</th>\n",
       "      <td>5</td>\n",
       "      <td>180.8</td>\n",
       "      <td>10.8</td>\n",
       "      <td>58.4</td>\n",
       "      <td>12.9</td>\n",
       "    </tr>\n",
       "  </tbody>\n",
       "</table>\n",
       "</div>"
      ],
      "text/plain": [
       "   Unnamed: 0     TV  Radio  Newspaper  Sales\n",
       "0           1  230.1   37.8       69.2   22.1\n",
       "1           2   44.5   39.3       45.1   10.4\n",
       "2           3   17.2   45.9       69.3    9.3\n",
       "3           4  151.5   41.3       58.5   18.5\n",
       "4           5  180.8   10.8       58.4   12.9"
      ]
     },
     "execution_count": 14,
     "metadata": {},
     "output_type": "execute_result"
    }
   ],
   "source": [
    "data.head()"
   ]
  },
  {
   "cell_type": "markdown",
   "id": "hired-canyon",
   "metadata": {},
   "source": [
    "### To calculate the mean of 'TV' column in the first 100 rows "
   ]
  },
  {
   "cell_type": "code",
   "execution_count": 16,
   "id": "opposite-display",
   "metadata": {},
   "outputs": [
    {
     "data": {
      "text/plain": [
       "147.1649999999999"
      ]
     },
     "execution_count": 16,
     "metadata": {},
     "output_type": "execute_result"
    }
   ],
   "source": [
    "data.iloc[:100]['TV'].mean()"
   ]
  },
  {
   "cell_type": "markdown",
   "id": "social-montana",
   "metadata": {},
   "source": [
    "### Q12. Find the maximum value in 'Sales' column"
   ]
  },
  {
   "cell_type": "code",
   "execution_count": 17,
   "id": "turned-scholar",
   "metadata": {},
   "outputs": [
    {
     "data": {
      "text/plain": [
       "27.0"
      ]
     },
     "execution_count": 17,
     "metadata": {},
     "output_type": "execute_result"
    }
   ],
   "source": [
    "data['Sales'].max()"
   ]
  },
  {
   "cell_type": "code",
   "execution_count": 18,
   "id": "sapphire-glass",
   "metadata": {},
   "outputs": [
    {
     "data": {
      "text/plain": [
       "27.0"
      ]
     },
     "execution_count": 18,
     "metadata": {},
     "output_type": "execute_result"
    }
   ],
   "source": [
    "data.loc[:,'Sales'].max()"
   ]
  },
  {
   "cell_type": "markdown",
   "id": "fewer-strength",
   "metadata": {},
   "source": [
    "### Q13. Logistic function $f(x)=\\frac{1}{1+e^{-ax-b}}$"
   ]
  },
  {
   "cell_type": "code",
   "execution_count": null,
   "id": "vanilla-lesbian",
   "metadata": {},
   "outputs": [],
   "source": []
  },
  {
   "cell_type": "markdown",
   "id": "physical-rings",
   "metadata": {},
   "source": [
    "### Q14. Cross entropy"
   ]
  },
  {
   "cell_type": "markdown",
   "id": "surgical-diameter",
   "metadata": {},
   "source": [
    "### In classification task, the data set consists of a group of paired (x,y) with numeric $x$ and binary $y$. In default data set, $x$ is the balance while $y$ is the status of default ($y$=1) or not ($y$=0). The goal is to find a function $f(x)=\\frac{1}{1+e^{-ax-b}}$ so we can make the prediction on $y$. The cross entropy is defined as $CE=-[y\\log f + (1-y)\\log (1-f)]$. (Note the true CE is obtained after averaging)"
   ]
  },
  {
   "cell_type": "markdown",
   "id": "wooden-portal",
   "metadata": {},
   "source": [
    "### Q15. Which datum contributes the most to the cross entropy?"
   ]
  },
  {
   "cell_type": "code",
   "execution_count": 19,
   "id": "caring-asian",
   "metadata": {},
   "outputs": [],
   "source": [
    "from sklearn.metrics import log_loss"
   ]
  },
  {
   "cell_type": "code",
   "execution_count": 33,
   "id": "tracked-entry",
   "metadata": {},
   "outputs": [],
   "source": [
    "pred = np.array([0.01, 0.4, 0.99])\n",
    "y_true = np.array([0, 0, 1])"
   ]
  },
  {
   "cell_type": "code",
   "execution_count": 34,
   "id": "funny-point",
   "metadata": {},
   "outputs": [
    {
     "data": {
      "text/plain": [
       "0.1769754318243312"
      ]
     },
     "execution_count": 34,
     "metadata": {},
     "output_type": "execute_result"
    }
   ],
   "source": [
    "log_loss(y_true, pred)"
   ]
  },
  {
   "cell_type": "code",
   "execution_count": 87,
   "id": "superb-athletics",
   "metadata": {},
   "outputs": [
    {
     "data": {
      "text/plain": [
       "0.01005033585350145"
      ]
     },
     "execution_count": 87,
     "metadata": {},
     "output_type": "execute_result"
    }
   ],
   "source": [
    "log_loss(y_true, pred, sample_weight=np.array([1,0,0]))"
   ]
  },
  {
   "cell_type": "code",
   "execution_count": 88,
   "id": "agreed-coral",
   "metadata": {},
   "outputs": [
    {
     "data": {
      "text/plain": [
       "0.5108256237659907"
      ]
     },
     "execution_count": 88,
     "metadata": {},
     "output_type": "execute_result"
    }
   ],
   "source": [
    "log_loss(y_true, pred, sample_weight=np.array([0,1,0]))"
   ]
  },
  {
   "cell_type": "code",
   "execution_count": 89,
   "id": "internal-boating",
   "metadata": {},
   "outputs": [
    {
     "data": {
      "text/plain": [
       "0.01005033585350145"
      ]
     },
     "execution_count": 89,
     "metadata": {},
     "output_type": "execute_result"
    }
   ],
   "source": [
    "log_loss(y_true, pred, sample_weight=np.array([0,0,1]))"
   ]
  },
  {
   "cell_type": "markdown",
   "id": "shared-tourist",
   "metadata": {},
   "source": [
    "### Q16. For the Auto data set and we are interested in the relation between MPG and horse power, if we use a linear model and a cubic model, then the cubic model shall result in a higher bias. Ans: false."
   ]
  },
  {
   "cell_type": "code",
   "execution_count": 125,
   "id": "native-journey",
   "metadata": {},
   "outputs": [],
   "source": [
    "auto = pd.read_csv('Auto.csv', na_values='?').dropna()\n",
    "\n",
    "x_auto = auto.horsepower.values.reshape(-1,1)\n",
    "y_auto = auto.mpg.values"
   ]
  },
  {
   "cell_type": "code",
   "execution_count": 126,
   "id": "enhanced-paragraph",
   "metadata": {},
   "outputs": [],
   "source": [
    "import sklearn.linear_model as skl_lm\n",
    "\n",
    "from mlxtend.evaluate import bias_variance_decomp"
   ]
  },
  {
   "cell_type": "code",
   "execution_count": 128,
   "id": "rolled-bhutan",
   "metadata": {},
   "outputs": [
    {
     "name": "stdout",
     "output_type": "stream",
     "text": [
      "25.114940557652258 24.833687992119717 0.28125256553253186\n"
     ]
    }
   ],
   "source": [
    "# linear model\n",
    "from sklearn.model_selection import train_test_split\n",
    "from sklearn.preprocessing import PolynomialFeatures\n",
    "\n",
    "degree = 1\n",
    "\n",
    "poly = PolynomialFeatures(degree)\n",
    "\n",
    "x_poly = poly.fit_transform(x_auto)\n",
    "\n",
    "X_train, X_test, y_train, y_test = train_test_split(x_poly, y_auto, test_size=0.5, random_state=1)\n",
    "\n",
    "model = skl_lm.LinearRegression()\n",
    "\n",
    "mseV, biasV, varV = bias_variance_decomp(model, X_train, y_train, X_test, y_test, loss='mse', num_rounds=200, random_seed=1)\n",
    "\n",
    "print(mseV, biasV, varV)"
   ]
  },
  {
   "cell_type": "code",
   "execution_count": 129,
   "id": "placed-malaysia",
   "metadata": {},
   "outputs": [
    {
     "name": "stdout",
     "output_type": "stream",
     "text": [
      "19.072643320591023 18.75066829072233 0.3219750298686828\n"
     ]
    }
   ],
   "source": [
    "# cubic model\n",
    "degree = 3\n",
    "\n",
    "poly = PolynomialFeatures(degree)\n",
    "\n",
    "x_poly = poly.fit_transform(x_auto)\n",
    "\n",
    "X_train, X_test, y_train, y_test = train_test_split(x_poly, y_auto, test_size=0.5, random_state=1)\n",
    "\n",
    "model = skl_lm.LinearRegression()\n",
    "\n",
    "mseV, biasV, varV = bias_variance_decomp(model, X_train, y_train, X_test, y_test, loss='mse', num_rounds=200, random_seed=1)\n",
    "\n",
    "print(mseV, biasV, varV)"
   ]
  },
  {
   "cell_type": "code",
   "execution_count": 131,
   "id": "working-transportation",
   "metadata": {},
   "outputs": [],
   "source": [
    "# bias for linear model is 24.8 while bias for cubic model is 18.8. so linear model has larger bias!"
   ]
  },
  {
   "cell_type": "markdown",
   "id": "married-server",
   "metadata": {},
   "source": [
    "### Q17. Following the previous question, the linear model shall result in lower variance if we talk about the estimated test error. Ans: True."
   ]
  },
  {
   "cell_type": "code",
   "execution_count": 132,
   "id": "imported-traffic",
   "metadata": {},
   "outputs": [],
   "source": [
    "# From above 2 cells, varinace for linear model is 0.28 while variance for cubic one is 0.32. "
   ]
  },
  {
   "cell_type": "markdown",
   "id": "referenced-liability",
   "metadata": {},
   "source": [
    "### Q18. We talked about bias variance tradeoff in the example using 50/50 split of training and test subset, in the following options, which one can lead to reduced variance? Ans. Chose 90/10 ratio between training/test sizes."
   ]
  },
  {
   "cell_type": "code",
   "execution_count": 130,
   "id": "loose-heath",
   "metadata": {},
   "outputs": [
    {
     "name": "stdout",
     "output_type": "stream",
     "text": [
      "17.359077830968232 17.16942056781327 0.1896572631549533\n"
     ]
    }
   ],
   "source": [
    "degree = 3\n",
    "\n",
    "poly = PolynomialFeatures(degree)\n",
    "\n",
    "x_poly = poly.fit_transform(x_auto)\n",
    "\n",
    "X_train, X_test, y_train, y_test = train_test_split(x_poly, y_auto, test_size=0.1, random_state=1)\n",
    "\n",
    "model = skl_lm.LinearRegression()\n",
    "\n",
    "mseV, biasV, varV = bias_variance_decomp(model, X_train, y_train, X_test, y_test, loss='mse', num_rounds=200, random_seed=1)\n",
    "\n",
    "print(mseV, biasV, varV)"
   ]
  },
  {
   "cell_type": "markdown",
   "id": "saved-sharp",
   "metadata": {},
   "source": [
    "### Q19 -- Q23"
   ]
  },
  {
   "cell_type": "code",
   "execution_count": 44,
   "id": "signal-class",
   "metadata": {},
   "outputs": [],
   "source": [
    "default = pd.read_csv('Default.csv')"
   ]
  },
  {
   "cell_type": "markdown",
   "id": "hungry-necessity",
   "metadata": {},
   "source": [
    "### How many customers are default? $N_1$"
   ]
  },
  {
   "cell_type": "code",
   "execution_count": 58,
   "id": "static-rachel",
   "metadata": {},
   "outputs": [
    {
     "data": {
      "text/plain": [
       "333"
      ]
     },
     "execution_count": 58,
     "metadata": {},
     "output_type": "execute_result"
    }
   ],
   "source": [
    "len(default.loc[default['default']=='Yes'])"
   ]
  },
  {
   "cell_type": "markdown",
   "id": "fatty-overall",
   "metadata": {},
   "source": [
    "### How many customers are not default? $N_0$"
   ]
  },
  {
   "cell_type": "code",
   "execution_count": 59,
   "id": "detailed-october",
   "metadata": {},
   "outputs": [
    {
     "data": {
      "text/plain": [
       "9667"
      ]
     },
     "execution_count": 59,
     "metadata": {},
     "output_type": "execute_result"
    }
   ],
   "source": [
    "len(default.loc[default['default']=='No'])"
   ]
  },
  {
   "cell_type": "markdown",
   "id": "equipped-visibility",
   "metadata": {},
   "source": [
    "### How to calculate the average of balance $\\mu_0$ for non-default customers, $\\mu_1$ for default customers, the variance of balance $\\sigma_0^2$ for non-default customers, and $\\sigma_1^2$ for default customers?"
   ]
  },
  {
   "cell_type": "markdown",
   "id": "handed-substitute",
   "metadata": {},
   "source": [
    "## $\\mu_1$"
   ]
  },
  {
   "cell_type": "code",
   "execution_count": 47,
   "id": "executed-baghdad",
   "metadata": {},
   "outputs": [
    {
     "data": {
      "text/plain": [
       "1747.8216896066072"
      ]
     },
     "execution_count": 47,
     "metadata": {},
     "output_type": "execute_result"
    }
   ],
   "source": [
    "default.loc[default['default']=='Yes']['balance'].mean()"
   ]
  },
  {
   "cell_type": "markdown",
   "id": "regional-montreal",
   "metadata": {},
   "source": [
    "## $\\mu_0$"
   ]
  },
  {
   "cell_type": "code",
   "execution_count": 48,
   "id": "technological-leone",
   "metadata": {},
   "outputs": [
    {
     "data": {
      "text/plain": [
       "803.9437502338307"
      ]
     },
     "execution_count": 48,
     "metadata": {},
     "output_type": "execute_result"
    }
   ],
   "source": [
    "default.loc[default['default']=='No']['balance'].mean()"
   ]
  },
  {
   "cell_type": "markdown",
   "id": "occasional-zealand",
   "metadata": {},
   "source": [
    "## $\\sigma_1^2$"
   ]
  },
  {
   "cell_type": "code",
   "execution_count": 49,
   "id": "diagnostic-terrace",
   "metadata": {},
   "outputs": [
    {
     "data": {
      "text/plain": [
       "116463.03454537454"
      ]
     },
     "execution_count": 49,
     "metadata": {},
     "output_type": "execute_result"
    }
   ],
   "source": [
    "default.loc[default['default']=='Yes']['balance'].var()"
   ]
  },
  {
   "cell_type": "markdown",
   "id": "ideal-racing",
   "metadata": {},
   "source": [
    "## $\\sigma_0^2$"
   ]
  },
  {
   "cell_type": "code",
   "execution_count": 50,
   "id": "valued-capture",
   "metadata": {},
   "outputs": [
    {
     "data": {
      "text/plain": [
       "208370.553617943"
      ]
     },
     "execution_count": 50,
     "metadata": {},
     "output_type": "execute_result"
    }
   ],
   "source": [
    "default.loc[default['default']=='No']['balance'].var()"
   ]
  },
  {
   "cell_type": "markdown",
   "id": "complex-guide",
   "metadata": {},
   "source": [
    "### Weighted average of variance (this will be needed in LDA case)"
   ]
  },
  {
   "cell_type": "code",
   "execution_count": 65,
   "id": "protected-reply",
   "metadata": {},
   "outputs": [
    {
     "data": {
      "text/plain": [
       "205310.03323282645"
      ]
     },
     "execution_count": 65,
     "metadata": {},
     "output_type": "execute_result"
    }
   ],
   "source": [
    "(116463.03454537454 * 333 + 208370.553617943 * 9667) / 10000"
   ]
  },
  {
   "cell_type": "markdown",
   "id": "demographic-ballet",
   "metadata": {},
   "source": [
    "### The weighted variance is different from the overall variance in entire 'balance' column."
   ]
  },
  {
   "cell_type": "code",
   "execution_count": 64,
   "id": "occasional-marker",
   "metadata": {},
   "outputs": [
    {
     "data": {
      "text/plain": [
       "233956.7888983377"
      ]
     },
     "execution_count": 64,
     "metadata": {},
     "output_type": "execute_result"
    }
   ],
   "source": [
    "default['balance'].values.var()"
   ]
  },
  {
   "cell_type": "code",
   "execution_count": 51,
   "id": "interpreted-marsh",
   "metadata": {},
   "outputs": [],
   "source": [
    "from sklearn.discriminant_analysis import LinearDiscriminantAnalysis\n",
    "from sklearn.discriminant_analysis import QuadraticDiscriminantAnalysis"
   ]
  },
  {
   "cell_type": "markdown",
   "id": "rough-leather",
   "metadata": {},
   "source": [
    "### In the following, we do not split the data into training and test subsets. Instead, we use the whole data set to fit the model. The purpose is to see what parameters are used in LDA and QDA."
   ]
  },
  {
   "cell_type": "code",
   "execution_count": 54,
   "id": "legislative-iraqi",
   "metadata": {},
   "outputs": [],
   "source": [
    "x_default = default['balance'].values.reshape(-1,1)\n",
    "y_default = default['default']"
   ]
  },
  {
   "cell_type": "code",
   "execution_count": 60,
   "id": "facial-buffalo",
   "metadata": {},
   "outputs": [
    {
     "data": {
      "text/plain": [
       "LinearDiscriminantAnalysis(store_covariance=True)"
      ]
     },
     "execution_count": 60,
     "metadata": {},
     "output_type": "execute_result"
    }
   ],
   "source": [
    "lda = LinearDiscriminantAnalysis(store_covariance=True)\n",
    "lda.fit(x_default, y_default)"
   ]
  },
  {
   "cell_type": "markdown",
   "id": "thrown-assembly",
   "metadata": {},
   "source": [
    "### Check if the following 2 numbers are the same as $\\mu_0$ and $\\mu_1$ ?"
   ]
  },
  {
   "cell_type": "code",
   "execution_count": 61,
   "id": "complicated-holder",
   "metadata": {},
   "outputs": [
    {
     "data": {
      "text/plain": [
       "array([[ 803.94375023],\n",
       "       [1747.82168961]])"
      ]
     },
     "execution_count": 61,
     "metadata": {},
     "output_type": "execute_result"
    }
   ],
   "source": [
    "lda.means_"
   ]
  },
  {
   "cell_type": "markdown",
   "id": "other-israel",
   "metadata": {},
   "source": [
    "### Check if the first number is the same as $\\frac{N_0}{N_0+N_1}$ In LDA, we call it $\\pi_0$, remember?"
   ]
  },
  {
   "cell_type": "code",
   "execution_count": 62,
   "id": "thick-humanity",
   "metadata": {},
   "outputs": [
    {
     "data": {
      "text/plain": [
       "array([0.9667, 0.0333])"
      ]
     },
     "execution_count": 62,
     "metadata": {},
     "output_type": "execute_result"
    }
   ],
   "source": [
    "lda.priors_"
   ]
  },
  {
   "cell_type": "markdown",
   "id": "industrial-gothic",
   "metadata": {},
   "source": [
    "### The variance $\\sigma^2$ used in LDA is almost the same as the weighted vairance. Please check!"
   ]
  },
  {
   "cell_type": "code",
   "execution_count": 67,
   "id": "permanent-meaning",
   "metadata": {},
   "outputs": [
    {
     "data": {
      "text/plain": [
       "array([[205277.54987401]])"
      ]
     },
     "execution_count": 67,
     "metadata": {},
     "output_type": "execute_result"
    }
   ],
   "source": [
    "lda.covariance_"
   ]
  },
  {
   "cell_type": "markdown",
   "id": "aerial-nigeria",
   "metadata": {},
   "source": [
    "### Let us create a few test cases, and predict if these balances will lead to default."
   ]
  },
  {
   "cell_type": "code",
   "execution_count": 73,
   "id": "actual-technician",
   "metadata": {},
   "outputs": [],
   "source": [
    "test_balance = np.array([500, 1000, 1500, 2000, 2500]).reshape(-1,1)"
   ]
  },
  {
   "cell_type": "code",
   "execution_count": 74,
   "id": "stone-battery",
   "metadata": {},
   "outputs": [
    {
     "data": {
      "text/plain": [
       "array(['No', 'No', 'No', 'No', 'Yes'], dtype='<U3')"
      ]
     },
     "execution_count": 74,
     "metadata": {},
     "output_type": "execute_result"
    }
   ],
   "source": [
    "lda.predict(test_balance)"
   ]
  },
  {
   "cell_type": "markdown",
   "id": "controversial-terrorist",
   "metadata": {},
   "source": [
    "### Write a simple function to verify the above prediction"
   ]
  },
  {
   "cell_type": "code",
   "execution_count": 90,
   "id": "provincial-twist",
   "metadata": {},
   "outputs": [],
   "source": [
    "from scipy.stats import norm"
   ]
  },
  {
   "cell_type": "code",
   "execution_count": 92,
   "id": "promising-player",
   "metadata": {},
   "outputs": [
    {
     "data": {
      "text/plain": [
       "0.3969525474770118"
      ]
     },
     "execution_count": 92,
     "metadata": {},
     "output_type": "execute_result"
    }
   ],
   "source": [
    "norm.pdf(0.1)"
   ]
  },
  {
   "cell_type": "code",
   "execution_count": 95,
   "id": "charged-roots",
   "metadata": {},
   "outputs": [],
   "source": [
    "def test_lda(x):\n",
    "    mu0 = lda.means_[0]\n",
    "    mu1 = lda.means_[1]\n",
    "    pi0 = lda.priors_[0]\n",
    "    var = lda.covariance_[0]\n",
    "    z0 = (x-mu0)/np.sqrt(var)\n",
    "    z1 = (x-mu1)/np.sqrt(var)\n",
    "    if pi0 * norm.pdf(z0) > (1-pi0) * norm.pdf(z1):\n",
    "        return 'No'\n",
    "    else:\n",
    "        return 'Yes'"
   ]
  },
  {
   "cell_type": "code",
   "execution_count": 97,
   "id": "senior-resident",
   "metadata": {},
   "outputs": [
    {
     "name": "stdout",
     "output_type": "stream",
     "text": [
      "No\n"
     ]
    }
   ],
   "source": [
    "print(test_lda(test_balance[0]))"
   ]
  },
  {
   "cell_type": "code",
   "execution_count": 98,
   "id": "mental-noise",
   "metadata": {},
   "outputs": [
    {
     "name": "stdout",
     "output_type": "stream",
     "text": [
      "No\n"
     ]
    }
   ],
   "source": [
    "print(test_lda(test_balance[1]))"
   ]
  },
  {
   "cell_type": "code",
   "execution_count": 99,
   "id": "scenic-manhattan",
   "metadata": {},
   "outputs": [
    {
     "name": "stdout",
     "output_type": "stream",
     "text": [
      "No\n"
     ]
    }
   ],
   "source": [
    "print(test_lda(test_balance[2]))"
   ]
  },
  {
   "cell_type": "code",
   "execution_count": 100,
   "id": "swedish-bandwidth",
   "metadata": {},
   "outputs": [
    {
     "name": "stdout",
     "output_type": "stream",
     "text": [
      "No\n"
     ]
    }
   ],
   "source": [
    "print(test_lda(test_balance[3]))"
   ]
  },
  {
   "cell_type": "code",
   "execution_count": 101,
   "id": "collect-browse",
   "metadata": {},
   "outputs": [
    {
     "name": "stdout",
     "output_type": "stream",
     "text": [
      "Yes\n"
     ]
    }
   ],
   "source": [
    "print(test_lda(test_balance[4]))"
   ]
  },
  {
   "cell_type": "markdown",
   "id": "weighted-supervision",
   "metadata": {},
   "source": [
    "### Breaking down QDA parameters"
   ]
  },
  {
   "cell_type": "code",
   "execution_count": 75,
   "id": "frank-paint",
   "metadata": {},
   "outputs": [],
   "source": [
    "qda = QuadraticDiscriminantAnalysis(store_covariance=True)"
   ]
  },
  {
   "cell_type": "code",
   "execution_count": 76,
   "id": "received-seven",
   "metadata": {},
   "outputs": [
    {
     "data": {
      "text/plain": [
       "QuadraticDiscriminantAnalysis(store_covariance=True)"
      ]
     },
     "execution_count": 76,
     "metadata": {},
     "output_type": "execute_result"
    }
   ],
   "source": [
    "qda.fit(x_default, y_default)"
   ]
  },
  {
   "cell_type": "code",
   "execution_count": 77,
   "id": "incoming-trance",
   "metadata": {},
   "outputs": [
    {
     "data": {
      "text/plain": [
       "array([[ 803.94375023],\n",
       "       [1747.82168961]])"
      ]
     },
     "execution_count": 77,
     "metadata": {},
     "output_type": "execute_result"
    }
   ],
   "source": [
    "qda.means_"
   ]
  },
  {
   "cell_type": "code",
   "execution_count": 78,
   "id": "sacred-ottawa",
   "metadata": {},
   "outputs": [
    {
     "data": {
      "text/plain": [
       "array([0.9667, 0.0333])"
      ]
     },
     "execution_count": 78,
     "metadata": {},
     "output_type": "execute_result"
    }
   ],
   "source": [
    "qda.priors_"
   ]
  },
  {
   "cell_type": "code",
   "execution_count": 79,
   "id": "meaning-falls",
   "metadata": {},
   "outputs": [
    {
     "data": {
      "text/plain": [
       "[array([[208370.55361794]]), array([[116463.03454537]])]"
      ]
     },
     "execution_count": 79,
     "metadata": {},
     "output_type": "execute_result"
    }
   ],
   "source": [
    "qda.covariance_"
   ]
  },
  {
   "cell_type": "code",
   "execution_count": 80,
   "id": "outdoor-deviation",
   "metadata": {},
   "outputs": [
    {
     "data": {
      "text/plain": [
       "array(['No', 'No', 'No', 'Yes', 'Yes'], dtype=object)"
      ]
     },
     "execution_count": 80,
     "metadata": {},
     "output_type": "execute_result"
    }
   ],
   "source": [
    "qda.predict(test_balance)"
   ]
  },
  {
   "cell_type": "markdown",
   "id": "appropriate-agriculture",
   "metadata": {},
   "source": [
    "### Write down a simple function to test qda results"
   ]
  },
  {
   "cell_type": "code",
   "execution_count": 110,
   "id": "completed-documentation",
   "metadata": {},
   "outputs": [],
   "source": [
    "def test_qda(x):\n",
    "    mu0 = qda.means_[0]\n",
    "    mu1 = qda.means_[1]\n",
    "    pi0 = qda.priors_[0]\n",
    "    var0 = qda.covariance_[0][0]\n",
    "    var1 = qda.covariance_[1][0]\n",
    "    \n",
    "    pdf0 = norm(mu0, np.sqrt(var0))\n",
    "    pdf1 = norm(mu1, np.sqrt(var1))\n",
    "    \n",
    "    if pi0 * pdf0.pdf(x) > (1-pi0) * pdf1.pdf(x):\n",
    "        return 'No'\n",
    "    else:\n",
    "        return 'Yes'"
   ]
  },
  {
   "cell_type": "code",
   "execution_count": 111,
   "id": "rough-scene",
   "metadata": {},
   "outputs": [
    {
     "name": "stdout",
     "output_type": "stream",
     "text": [
      "No\n"
     ]
    }
   ],
   "source": [
    "print(test_qda(test_balance[0]))"
   ]
  },
  {
   "cell_type": "code",
   "execution_count": 112,
   "id": "czech-capture",
   "metadata": {},
   "outputs": [
    {
     "name": "stdout",
     "output_type": "stream",
     "text": [
      "No\n"
     ]
    }
   ],
   "source": [
    "print(test_qda(test_balance[1]))"
   ]
  },
  {
   "cell_type": "code",
   "execution_count": 113,
   "id": "behind-mills",
   "metadata": {},
   "outputs": [
    {
     "name": "stdout",
     "output_type": "stream",
     "text": [
      "No\n"
     ]
    }
   ],
   "source": [
    "print(test_qda(test_balance[2]))"
   ]
  },
  {
   "cell_type": "code",
   "execution_count": 114,
   "id": "ruled-chester",
   "metadata": {},
   "outputs": [
    {
     "name": "stdout",
     "output_type": "stream",
     "text": [
      "Yes\n"
     ]
    }
   ],
   "source": [
    "print(test_qda(test_balance[3]))"
   ]
  },
  {
   "cell_type": "code",
   "execution_count": 115,
   "id": "elder-deputy",
   "metadata": {},
   "outputs": [
    {
     "name": "stdout",
     "output_type": "stream",
     "text": [
      "Yes\n"
     ]
    }
   ],
   "source": [
    "print(test_qda(test_balance[4]))"
   ]
  },
  {
   "cell_type": "markdown",
   "id": "automatic-likelihood",
   "metadata": {},
   "source": [
    "### Q24 k-nearest neighbor method"
   ]
  },
  {
   "cell_type": "code",
   "execution_count": 116,
   "id": "blocked-hands",
   "metadata": {},
   "outputs": [],
   "source": [
    "# In the question, it does not mention the parameter k so it is not clear how many neighbors need to be considered."
   ]
  },
  {
   "cell_type": "markdown",
   "id": "varying-seattle",
   "metadata": {},
   "source": [
    "### Q25 Bayes rule"
   ]
  },
  {
   "cell_type": "markdown",
   "id": "compressed-poster",
   "metadata": {},
   "source": [
    "#### To know $p(y=1|x=1)$, we need to use the Bayes rule $p(y=1|x=1)=\\frac{p(x=1|y=1)p(y=1)}{p(x=1)}$. The denominator $p(x=1)=p(x=1|y=1)p(y=1)+p(x=1|y=0)p(y=0)=ac+(1-b)(1-c)$. The numerator is $ac$. "
   ]
  },
  {
   "cell_type": "markdown",
   "id": "conservative-nursing",
   "metadata": {},
   "source": [
    "# Summary of what is new in this midterm review\n",
    " - Google bias_variance_decomp for knowing more details\n",
    " - we verified and breaked down LDA and QDA by looking into the application to default data set\n",
    " - what is pdf? probability density function\n",
    " - how to evaluate pdf using scipy.stats\n",
    " "
   ]
  },
  {
   "cell_type": "code",
   "execution_count": null,
   "id": "corrected-response",
   "metadata": {},
   "outputs": [],
   "source": []
  }
 ],
 "metadata": {
  "kernelspec": {
   "display_name": "Python 3",
   "language": "python",
   "name": "python3"
  },
  "language_info": {
   "codemirror_mode": {
    "name": "ipython",
    "version": 3
   },
   "file_extension": ".py",
   "mimetype": "text/x-python",
   "name": "python",
   "nbconvert_exporter": "python",
   "pygments_lexer": "ipython3",
   "version": "3.6.9"
  }
 },
 "nbformat": 4,
 "nbformat_minor": 5
}
