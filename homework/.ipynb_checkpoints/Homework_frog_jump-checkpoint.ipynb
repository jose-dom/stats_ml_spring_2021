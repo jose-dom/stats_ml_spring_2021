{
 "cells": [
  {
   "cell_type": "code",
   "execution_count": 1,
   "metadata": {},
   "outputs": [],
   "source": [
    "import numpy as np"
   ]
  },
  {
   "cell_type": "code",
   "execution_count": 2,
   "metadata": {},
   "outputs": [],
   "source": [
    "import random"
   ]
  },
  {
   "cell_type": "markdown",
   "metadata": {},
   "source": [
    "## We learned the container 'list' in previous Lab session.\n",
    "## In the question, we are interested in tracking the coordinate (x, y) of the frog\n",
    "So we can start with a variable called 'point' whose x coordinate is 1 and y coordinate is 2"
   ]
  },
  {
   "cell_type": "code",
   "execution_count": 5,
   "metadata": {},
   "outputs": [
    {
     "data": {
      "text/plain": [
       "1"
      ]
     },
     "execution_count": 5,
     "metadata": {},
     "output_type": "execute_result"
    }
   ],
   "source": [
    "point = [1,2]\n",
    "point[0]"
   ]
  },
  {
   "cell_type": "markdown",
   "metadata": {},
   "source": [
    "## The built-in function print can print out the information stored inside a list\n",
    "point[0] refers to the first stored element; point[1] the second, so forth and so on"
   ]
  },
  {
   "cell_type": "code",
   "execution_count": 6,
   "metadata": {},
   "outputs": [
    {
     "name": "stdout",
     "output_type": "stream",
     "text": [
      "x coordinate of point is 1\n"
     ]
    }
   ],
   "source": [
    "print('x coordinate of point is', point[0])"
   ]
  },
  {
   "cell_type": "code",
   "execution_count": 7,
   "metadata": {},
   "outputs": [
    {
     "name": "stdout",
     "output_type": "stream",
     "text": [
      "y coordinate of point is 2\n"
     ]
    }
   ],
   "source": [
    "print('y coordinate of point is', point[1])"
   ]
  },
  {
   "cell_type": "markdown",
   "metadata": {},
   "source": [
    "## In the present case and future, we will need random number\n",
    "### Here, we need a uniformly random variable from 1, 2, 3, 4, each will represent the direction the frog will jump"
   ]
  },
  {
   "cell_type": "code",
   "execution_count": 8,
   "metadata": {},
   "outputs": [
    {
     "data": {
      "text/plain": [
       "2"
      ]
     },
     "execution_count": 8,
     "metadata": {},
     "output_type": "execute_result"
    }
   ],
   "source": [
    "flip = random.randint(1,4)\n",
    "flip"
   ]
  },
  {
   "cell_type": "markdown",
   "metadata": {},
   "source": [
    "### Let's say, if flip = 1 then jump right; flip = 2 then jump left; flip = 3 jump up; else jump down\n",
    "### we can implement the jumping process with the following function, which makes things compact and easier to read."
   ]
  },
  {
   "cell_type": "code",
   "execution_count": 9,
   "metadata": {},
   "outputs": [],
   "source": [
    "def do_frog_jump(point):\n",
    "    array_1_to_4 = np.arange(start = 1, stop =5)\n",
    "    # the frog will continuing jumping one of the 4 directions within the following while loop \n",
    "    while point[0] != 0 and point[0] != 4 and point[1] != 0 and point[1] !=4:\n",
    "        \n",
    "        flip = np.random.choice(a = array_1_to_4, p = [0.25, 0.25, 0.25, 0.25])\n",
    "        \n",
    "        if flip == 1:\n",
    "            point[0] += 1\n",
    "        elif flip == 2:\n",
    "            point[0] -= 1\n",
    "        elif flip == 3:\n",
    "            point[1] += 1\n",
    "        else:\n",
    "            point[1] -= 1\n",
    "            \n",
    "    # now the frog hit one of the walls, and hence the while loop is terminated.\n",
    "    # next we need to determine which wall the frog is hitting\n",
    "    if point[0] == 0:\n",
    "        return 'Left'\n",
    "    elif point[0] == 4:\n",
    "        return 'Right'\n",
    "    elif point[1] == 0:\n",
    "        return 'Bottom'\n",
    "    else:\n",
    "        return 'Top'\n",
    "                    "
   ]
  },
  {
   "cell_type": "markdown",
   "metadata": {},
   "source": [
    "### Now let's do the experiment 100 times and see how many times the frog hit the vertical walls."
   ]
  },
  {
   "cell_type": "code",
   "execution_count": 10,
   "metadata": {},
   "outputs": [],
   "source": [
    "# We are going to experiment the frog jumping 100 times\n",
    "# The values we need to keep track of are: how many times the frog hit which wall\n",
    "\n",
    "\n",
    "num_simulation = 100\n",
    "\n",
    "num_trial = 0\n",
    "\n",
    "num_top = 0\n",
    "num_bottom = 0\n",
    "num_left = 0\n",
    "num_right = 0\n",
    "\n",
    "while num_trial < num_simulation:\n",
    "    \n",
    "    \n",
    "    # the major simulation is happening within do_frog_jump\n",
    "    res = do_frog_jump(point)\n",
    "    \n",
    "    # keep track of which wall is hit\n",
    "    if res == 'Right':\n",
    "        num_right += 1\n",
    "    elif res == 'Left':\n",
    "        num_left += 1\n",
    "    elif res == 'Top':\n",
    "        num_top += 1\n",
    "    else:\n",
    "        num_bottom += 1\n",
    "        \n",
    "    # remember to increment the trial, otherwise the while loop is never terminated\n",
    "    num_trial += 1\n",
    "    \n",
    "    # remember to restore the initial position\n",
    "    point = [1,2]\n",
    "                "
   ]
  },
  {
   "cell_type": "markdown",
   "metadata": {},
   "source": [
    "### We can print out the simulation results (e.g. how many times the frog hit the left wall)"
   ]
  },
  {
   "cell_type": "code",
   "execution_count": 11,
   "metadata": {},
   "outputs": [
    {
     "data": {
      "text/plain": [
       "[19, 19, 48, 14]"
      ]
     },
     "execution_count": 11,
     "metadata": {},
     "output_type": "execute_result"
    }
   ],
   "source": [
    "[num_top, num_bottom, num_left, num_right]"
   ]
  },
  {
   "cell_type": "markdown",
   "metadata": {},
   "source": [
    "### With the simulation result, we are able to infer the probability the frog will hit the vertical walls (left and right walls)"
   ]
  },
  {
   "cell_type": "code",
   "execution_count": 12,
   "metadata": {},
   "outputs": [
    {
     "data": {
      "text/plain": [
       "0.62"
      ]
     },
     "execution_count": 12,
     "metadata": {},
     "output_type": "execute_result"
    }
   ],
   "source": [
    "sum([num_left,num_right])/sum([num_top, num_bottom, num_left, num_right])"
   ]
  },
  {
   "cell_type": "markdown",
   "metadata": {},
   "source": [
    "### 0.62 is most close to 5/8, so the answer is (B)"
   ]
  },
  {
   "cell_type": "markdown",
   "metadata": {},
   "source": [
    "# Question 1. What is the probability that the frog will hit the vertical walls if the initial position is at [2,2]?"
   ]
  },
  {
   "cell_type": "code",
   "execution_count": null,
   "metadata": {},
   "outputs": [],
   "source": []
  },
  {
   "cell_type": "markdown",
   "metadata": {},
   "source": [
    "# Question 2. If the frog has 30% chance jumping up, 20% jumping down, 25% jumping left, 25% jumping right, what is the probability hitting the vertical wall for starting at [1,2]"
   ]
  },
  {
   "cell_type": "code",
   "execution_count": null,
   "metadata": {},
   "outputs": [],
   "source": []
  },
  {
   "cell_type": "markdown",
   "metadata": {},
   "source": [
    "# Question 3. Google \"Python plot bar diagram\" and present your simulation result in terms of bar diagram."
   ]
  },
  {
   "cell_type": "code",
   "execution_count": null,
   "metadata": {},
   "outputs": [],
   "source": []
  },
  {
   "cell_type": "markdown",
   "metadata": {},
   "source": [
    "# Bonus Question. In those simulations when the frog hit the right wall, what is the average number of jumps before it hits the wall? (Hint. You may also need to keep track the number of jumps, and try to plot the histogram of those jumps)"
   ]
  },
  {
   "cell_type": "code",
   "execution_count": null,
   "metadata": {},
   "outputs": [],
   "source": []
  }
 ],
 "metadata": {
  "kernelspec": {
   "display_name": "Python 3",
   "language": "python",
   "name": "python3"
  },
  "language_info": {
   "codemirror_mode": {
    "name": "ipython",
    "version": 3
   },
   "file_extension": ".py",
   "mimetype": "text/x-python",
   "name": "python",
   "nbconvert_exporter": "python",
   "pygments_lexer": "ipython3",
   "version": "3.6.9"
  }
 },
 "nbformat": 4,
 "nbformat_minor": 4
}
